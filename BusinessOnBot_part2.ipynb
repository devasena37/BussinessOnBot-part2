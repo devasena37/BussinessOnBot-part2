{
  "nbformat": 4,
  "nbformat_minor": 0,
  "metadata": {
    "colab": {
      "name": "Copy of BusinessOnBot_part2.ipynb",
      "provenance": []
    },
    "kernelspec": {
      "name": "python3",
      "display_name": "Python 3"
    },
    "language_info": {
      "name": "python"
    }
  },
  "cells": [
    {
      "cell_type": "markdown",
      "source": [
        "Importing the libraries\n"
      ],
      "metadata": {
        "id": "p2xwstVdK1FO"
      }
    },
    {
      "cell_type": "code",
      "execution_count": null,
      "metadata": {
        "id": "pzUHdv1lSUWN"
      },
      "outputs": [],
      "source": [
        "import numpy as np\n",
        "import pandas as pd"
      ]
    },
    {
      "cell_type": "markdown",
      "source": [
        "Importing the Dataset"
      ],
      "metadata": {
        "id": "ac5_WT-K9N_2"
      }
    },
    {
      "cell_type": "code",
      "source": [
        "data= pd.read_csv(\"/content/CoronaTweetsSentimentAnalysis.csv\")"
      ],
      "metadata": {
        "id": "38miD3xPTDEv"
      },
      "execution_count": null,
      "outputs": []
    },
    {
      "cell_type": "markdown",
      "source": [
        "Viewing Sample data"
      ],
      "metadata": {
        "id": "mjE6JZ-PLBwh"
      }
    },
    {
      "cell_type": "code",
      "source": [
        "data.head()"
      ],
      "metadata": {
        "colab": {
          "base_uri": "https://localhost:8080/",
          "height": 206
        },
        "id": "hpGvtQC1THHI",
        "outputId": "28271505-27a9-4b48-e907-133a4e2f880c"
      },
      "execution_count": null,
      "outputs": [
        {
          "output_type": "execute_result",
          "data": {
            "text/plain": [
              "   UserName  ScreenName                Location     TweetAt  \\\n",
              "0         1       44954             Seattle, WA  02-03-2020   \n",
              "1         2       44956             Chicagoland  02-03-2020   \n",
              "2         3       44959                     NaN  03-03-2020   \n",
              "3         4       44963  Boksburg, South Africa  04-03-2020   \n",
              "4         5       44967          Washington, DC  04-03-2020   \n",
              "\n",
              "                                       OriginalTweet Sentiment  \n",
              "0  When I couldn't find hand sanitizer at Fred Me...  Positive  \n",
              "1  #Panic buying hits #NewYork City as anxious sh...  Negative  \n",
              "2  Voting in the age of #coronavirus = hand sanit...  Positive  \n",
              "3  Best quality couches at unbelievably low price...  Positive  \n",
              "4  While we were busy watching election returns a...  Positive  "
            ],
            "text/html": [
              "\n",
              "  <div id=\"df-a96e58d9-d555-4c34-8b14-791d47049905\">\n",
              "    <div class=\"colab-df-container\">\n",
              "      <div>\n",
              "<style scoped>\n",
              "    .dataframe tbody tr th:only-of-type {\n",
              "        vertical-align: middle;\n",
              "    }\n",
              "\n",
              "    .dataframe tbody tr th {\n",
              "        vertical-align: top;\n",
              "    }\n",
              "\n",
              "    .dataframe thead th {\n",
              "        text-align: right;\n",
              "    }\n",
              "</style>\n",
              "<table border=\"1\" class=\"dataframe\">\n",
              "  <thead>\n",
              "    <tr style=\"text-align: right;\">\n",
              "      <th></th>\n",
              "      <th>UserName</th>\n",
              "      <th>ScreenName</th>\n",
              "      <th>Location</th>\n",
              "      <th>TweetAt</th>\n",
              "      <th>OriginalTweet</th>\n",
              "      <th>Sentiment</th>\n",
              "    </tr>\n",
              "  </thead>\n",
              "  <tbody>\n",
              "    <tr>\n",
              "      <th>0</th>\n",
              "      <td>1</td>\n",
              "      <td>44954</td>\n",
              "      <td>Seattle, WA</td>\n",
              "      <td>02-03-2020</td>\n",
              "      <td>When I couldn't find hand sanitizer at Fred Me...</td>\n",
              "      <td>Positive</td>\n",
              "    </tr>\n",
              "    <tr>\n",
              "      <th>1</th>\n",
              "      <td>2</td>\n",
              "      <td>44956</td>\n",
              "      <td>Chicagoland</td>\n",
              "      <td>02-03-2020</td>\n",
              "      <td>#Panic buying hits #NewYork City as anxious sh...</td>\n",
              "      <td>Negative</td>\n",
              "    </tr>\n",
              "    <tr>\n",
              "      <th>2</th>\n",
              "      <td>3</td>\n",
              "      <td>44959</td>\n",
              "      <td>NaN</td>\n",
              "      <td>03-03-2020</td>\n",
              "      <td>Voting in the age of #coronavirus = hand sanit...</td>\n",
              "      <td>Positive</td>\n",
              "    </tr>\n",
              "    <tr>\n",
              "      <th>3</th>\n",
              "      <td>4</td>\n",
              "      <td>44963</td>\n",
              "      <td>Boksburg, South Africa</td>\n",
              "      <td>04-03-2020</td>\n",
              "      <td>Best quality couches at unbelievably low price...</td>\n",
              "      <td>Positive</td>\n",
              "    </tr>\n",
              "    <tr>\n",
              "      <th>4</th>\n",
              "      <td>5</td>\n",
              "      <td>44967</td>\n",
              "      <td>Washington, DC</td>\n",
              "      <td>04-03-2020</td>\n",
              "      <td>While we were busy watching election returns a...</td>\n",
              "      <td>Positive</td>\n",
              "    </tr>\n",
              "  </tbody>\n",
              "</table>\n",
              "</div>\n",
              "      <button class=\"colab-df-convert\" onclick=\"convertToInteractive('df-a96e58d9-d555-4c34-8b14-791d47049905')\"\n",
              "              title=\"Convert this dataframe to an interactive table.\"\n",
              "              style=\"display:none;\">\n",
              "        \n",
              "  <svg xmlns=\"http://www.w3.org/2000/svg\" height=\"24px\"viewBox=\"0 0 24 24\"\n",
              "       width=\"24px\">\n",
              "    <path d=\"M0 0h24v24H0V0z\" fill=\"none\"/>\n",
              "    <path d=\"M18.56 5.44l.94 2.06.94-2.06 2.06-.94-2.06-.94-.94-2.06-.94 2.06-2.06.94zm-11 1L8.5 8.5l.94-2.06 2.06-.94-2.06-.94L8.5 2.5l-.94 2.06-2.06.94zm10 10l.94 2.06.94-2.06 2.06-.94-2.06-.94-.94-2.06-.94 2.06-2.06.94z\"/><path d=\"M17.41 7.96l-1.37-1.37c-.4-.4-.92-.59-1.43-.59-.52 0-1.04.2-1.43.59L10.3 9.45l-7.72 7.72c-.78.78-.78 2.05 0 2.83L4 21.41c.39.39.9.59 1.41.59.51 0 1.02-.2 1.41-.59l7.78-7.78 2.81-2.81c.8-.78.8-2.07 0-2.86zM5.41 20L4 18.59l7.72-7.72 1.47 1.35L5.41 20z\"/>\n",
              "  </svg>\n",
              "      </button>\n",
              "      \n",
              "  <style>\n",
              "    .colab-df-container {\n",
              "      display:flex;\n",
              "      flex-wrap:wrap;\n",
              "      gap: 12px;\n",
              "    }\n",
              "\n",
              "    .colab-df-convert {\n",
              "      background-color: #E8F0FE;\n",
              "      border: none;\n",
              "      border-radius: 50%;\n",
              "      cursor: pointer;\n",
              "      display: none;\n",
              "      fill: #1967D2;\n",
              "      height: 32px;\n",
              "      padding: 0 0 0 0;\n",
              "      width: 32px;\n",
              "    }\n",
              "\n",
              "    .colab-df-convert:hover {\n",
              "      background-color: #E2EBFA;\n",
              "      box-shadow: 0px 1px 2px rgba(60, 64, 67, 0.3), 0px 1px 3px 1px rgba(60, 64, 67, 0.15);\n",
              "      fill: #174EA6;\n",
              "    }\n",
              "\n",
              "    [theme=dark] .colab-df-convert {\n",
              "      background-color: #3B4455;\n",
              "      fill: #D2E3FC;\n",
              "    }\n",
              "\n",
              "    [theme=dark] .colab-df-convert:hover {\n",
              "      background-color: #434B5C;\n",
              "      box-shadow: 0px 1px 3px 1px rgba(0, 0, 0, 0.15);\n",
              "      filter: drop-shadow(0px 1px 2px rgba(0, 0, 0, 0.3));\n",
              "      fill: #FFFFFF;\n",
              "    }\n",
              "  </style>\n",
              "\n",
              "      <script>\n",
              "        const buttonEl =\n",
              "          document.querySelector('#df-a96e58d9-d555-4c34-8b14-791d47049905 button.colab-df-convert');\n",
              "        buttonEl.style.display =\n",
              "          google.colab.kernel.accessAllowed ? 'block' : 'none';\n",
              "\n",
              "        async function convertToInteractive(key) {\n",
              "          const element = document.querySelector('#df-a96e58d9-d555-4c34-8b14-791d47049905');\n",
              "          const dataTable =\n",
              "            await google.colab.kernel.invokeFunction('convertToInteractive',\n",
              "                                                     [key], {});\n",
              "          if (!dataTable) return;\n",
              "\n",
              "          const docLinkHtml = 'Like what you see? Visit the ' +\n",
              "            '<a target=\"_blank\" href=https://colab.research.google.com/notebooks/data_table.ipynb>data table notebook</a>'\n",
              "            + ' to learn more about interactive tables.';\n",
              "          element.innerHTML = '';\n",
              "          dataTable['output_type'] = 'display_data';\n",
              "          await google.colab.output.renderOutput(dataTable, element);\n",
              "          const docLink = document.createElement('div');\n",
              "          docLink.innerHTML = docLinkHtml;\n",
              "          element.appendChild(docLink);\n",
              "        }\n",
              "      </script>\n",
              "    </div>\n",
              "  </div>\n",
              "  "
            ]
          },
          "metadata": {},
          "execution_count": 3
        }
      ]
    },
    {
      "cell_type": "code",
      "source": [
        "data.shape"
      ],
      "metadata": {
        "colab": {
          "base_uri": "https://localhost:8080/"
        },
        "id": "ZUVHretHZuv6",
        "outputId": "3f2241d8-c389-42f0-d2a2-02fd1b1d2232"
      },
      "execution_count": null,
      "outputs": [
        {
          "output_type": "execute_result",
          "data": {
            "text/plain": [
              "(1988, 6)"
            ]
          },
          "metadata": {},
          "execution_count": 4
        }
      ]
    },
    {
      "cell_type": "code",
      "source": [
        "data.isnull().sum()"
      ],
      "metadata": {
        "colab": {
          "base_uri": "https://localhost:8080/"
        },
        "id": "btggTJiXTIUm",
        "outputId": "fa050b17-b4d1-4090-84d2-5cd004e14eba"
      },
      "execution_count": null,
      "outputs": [
        {
          "output_type": "execute_result",
          "data": {
            "text/plain": [
              "UserName           0\n",
              "ScreenName         0\n",
              "Location         452\n",
              "TweetAt            0\n",
              "OriginalTweet      0\n",
              "Sentiment          0\n",
              "dtype: int64"
            ]
          },
          "metadata": {},
          "execution_count": 5
        }
      ]
    },
    {
      "cell_type": "markdown",
      "source": [
        "Visualization on Data"
      ],
      "metadata": {
        "id": "LF9EZJPp9T-V"
      }
    },
    {
      "cell_type": "code",
      "source": [
        "import nltk\n",
        "from nltk.corpus import stopwords\n",
        "import matplotlib.pyplot as plt\n",
        "from wordcloud import WordCloud,STOPWORDS\n",
        "\n",
        "#Create stopword list:\n",
        "stopwords = set(STOPWORDS)\n",
        "stopwords.update([\"br\", \"href\"])\n",
        "\n",
        "textt = \" \".join(OriginalTweet for OriginalTweet in data.OriginalTweet)\n",
        "\n",
        "wordcloud = WordCloud(stopwords=stopwords).generate(textt)\n",
        "plt.imshow(wordcloud, interpolation='bilinear')\n",
        "plt.axis(\"off\")\n",
        "plt.show()"
      ],
      "metadata": {
        "colab": {
          "base_uri": "https://localhost:8080/",
          "height": 198
        },
        "id": "zsxpxI5CUFNk",
        "outputId": "0e96c051-901e-4a53-e1c0-26a43530d89b"
      },
      "execution_count": null,
      "outputs": [
        {
          "output_type": "display_data",
          "data": {
            "text/plain": [
              "<Figure size 432x288 with 1 Axes>"
            ],
            "image/png": "[encoded data removed]"
          },
          "metadata": {
            "needs_background": "light"
          }
        }
      ]
    },
    {
      "cell_type": "code",
      "source": [
        "import seaborn as sns\n",
        "sns.countplot(x='Sentiment', data=data)"
      ],
      "metadata": {
        "colab": {
          "base_uri": "https://localhost:8080/",
          "height": 297
        },
        "id": "XKl7jdYfhDc1",
        "outputId": "3b4cd7e7-1e11-46d9-8183-738cf8cd0361"
      },
      "execution_count": null,
      "outputs": [
        {
          "output_type": "execute_result",
          "data": {
            "text/plain": [
              "<matplotlib.axes._subplots.AxesSubplot at 0x7fabf10e7090>"
            ]
          },
          "metadata": {},
          "execution_count": 7
        },
        {
          "output_type": "display_data",
          "data": {
            "text/plain": [
              "<Figure size 432x288 with 1 Axes>"
            ],
            "image/png": "[encoded data removed]"
          },
          "metadata": {
            "needs_background": "light"
          }
        }
      ]
    },
    {
      "cell_type": "markdown",
      "source": [
        "As the dataset is of tweets , checking whether the dataset has hashtags"
      ],
      "metadata": {
        "id": "W0fVcXodLL2p"
      }
    },
    {
      "cell_type": "code",
      "source": [
        "import re\n",
        "data['hashtag'] = data['OriginalTweet'].apply(lambda x: re.findall(r\"#(\\w+)\", x))"
      ],
      "metadata": {
        "id": "_2BAXZ37aPSV"
      },
      "execution_count": null,
      "outputs": []
    },
    {
      "cell_type": "markdown",
      "source": [
        "Adding the hashtag as a seperate feature to have a indepth view about the hashtag data in the text"
      ],
      "metadata": {
        "id": "AJe8_W8WLTw8"
      }
    },
    {
      "cell_type": "code",
      "source": [
        "data"
      ],
      "metadata": {
        "colab": {
          "base_uri": "https://localhost:8080/",
          "height": 424
        },
        "id": "-S5yu84mak7K",
        "outputId": "f49a3369-6ee8-4bdc-e826-e98c7511d975"
      },
      "execution_count": null,
      "outputs": [
        {
          "output_type": "execute_result",
          "data": {
            "text/plain": [
              "      UserName  ScreenName                Location     TweetAt  \\\n",
              "0            1       44954             Seattle, WA  02-03-2020   \n",
              "1            2       44956             Chicagoland  02-03-2020   \n",
              "2            3       44959                     NaN  03-03-2020   \n",
              "3            4       44963  Boksburg, South Africa  04-03-2020   \n",
              "4            5       44967          Washington, DC  04-03-2020   \n",
              "...        ...         ...                     ...         ...   \n",
              "1983      1984       48737       Paraparaumu Beach  16-03-2020   \n",
              "1984      1985       48743        Cincinnati, Ohio  16-03-2020   \n",
              "1985      1986       48745         Washington D.C.  16-03-2020   \n",
              "1986      1987       48746               Israel ??  16-03-2020   \n",
              "1987      1988       48747          Farmington, NM  16-03-2020   \n",
              "\n",
              "                                          OriginalTweet Sentiment  \\\n",
              "0     When I couldn't find hand sanitizer at Fred Me...  Positive   \n",
              "1     #Panic buying hits #NewYork City as anxious sh...  Negative   \n",
              "2     Voting in the age of #coronavirus = hand sanit...  Positive   \n",
              "3     Best quality couches at unbelievably low price...  Positive   \n",
              "4     While we were busy watching election returns a...  Positive   \n",
              "...                                                 ...       ...   \n",
              "1983  Just been through K?piti New World which is bu...  Positive   \n",
              "1984  Even though the Law Library is closed, ALL sub...  Positive   \n",
              "1985  @RicePolitics @MDCounties Craig, will you call...  Negative   \n",
              "1986  Meanwhile In A Supermarket in Israel -- People...  Positive   \n",
              "1987  Did you panic buy a lot of non-perishable item...  Negative   \n",
              "\n",
              "                                                hashtag  \n",
              "0                                 [Amazon, coronavirus]  \n",
              "1     [Panic, NewYork, healthcare, BigApple, coronav...  \n",
              "2                           [coronavirus, SuperTuesday]  \n",
              "3     [SuperTuesdsy, PowerTalk, Covid_19, SayEntrepr...  \n",
              "4                                                    []  \n",
              "...                                                 ...  \n",
              "1983                                                 []  \n",
              "1984                                                 []  \n",
              "1985                                                 []  \n",
              "1986                                      [CoronaVirus]  \n",
              "1987                                                 []  \n",
              "\n",
              "[1988 rows x 7 columns]"
            ],
            "text/html": [
              "\n",
              "  <div id=\"df-1969fcca-4845-4411-a777-b534844888b7\">\n",
              "    <div class=\"colab-df-container\">\n",
              "      <div>\n",
              "<style scoped>\n",
              "    .dataframe tbody tr th:only-of-type {\n",
              "        vertical-align: middle;\n",
              "    }\n",
              "\n",
              "    .dataframe tbody tr th {\n",
              "        vertical-align: top;\n",
              "    }\n",
              "\n",
              "    .dataframe thead th {\n",
              "        text-align: right;\n",
              "    }\n",
              "</style>\n",
              "<table border=\"1\" class=\"dataframe\">\n",
              "  <thead>\n",
              "    <tr style=\"text-align: right;\">\n",
              "      <th></th>\n",
              "      <th>UserName</th>\n",
              "      <th>ScreenName</th>\n",
              "      <th>Location</th>\n",
              "      <th>TweetAt</th>\n",
              "      <th>OriginalTweet</th>\n",
              "      <th>Sentiment</th>\n",
              "      <th>hashtag</th>\n",
              "    </tr>\n",
              "  </thead>\n",
              "  <tbody>\n",
              "    <tr>\n",
              "      <th>0</th>\n",
              "      <td>1</td>\n",
              "      <td>44954</td>\n",
              "      <td>Seattle, WA</td>\n",
              "      <td>02-03-2020</td>\n",
              "      <td>When I couldn't find hand sanitizer at Fred Me...</td>\n",
              "      <td>Positive</td>\n",
              "      <td>[Amazon, coronavirus]</td>\n",
              "    </tr>\n",
              "    <tr>\n",
              "      <th>1</th>\n",
              "      <td>2</td>\n",
              "      <td>44956</td>\n",
              "      <td>Chicagoland</td>\n",
              "      <td>02-03-2020</td>\n",
              "      <td>#Panic buying hits #NewYork City as anxious sh...</td>\n",
              "      <td>Negative</td>\n",
              "      <td>[Panic, NewYork, healthcare, BigApple, coronav...</td>\n",
              "    </tr>\n",
              "    <tr>\n",
              "      <th>2</th>\n",
              "      <td>3</td>\n",
              "      <td>44959</td>\n",
              "      <td>NaN</td>\n",
              "      <td>03-03-2020</td>\n",
              "      <td>Voting in the age of #coronavirus = hand sanit...</td>\n",
              "      <td>Positive</td>\n",
              "      <td>[coronavirus, SuperTuesday]</td>\n",
              "    </tr>\n",
              "    <tr>\n",
              "      <th>3</th>\n",
              "      <td>4</td>\n",
              "      <td>44963</td>\n",
              "      <td>Boksburg, South Africa</td>\n",
              "      <td>04-03-2020</td>\n",
              "      <td>Best quality couches at unbelievably low price...</td>\n",
              "      <td>Positive</td>\n",
              "      <td>[SuperTuesdsy, PowerTalk, Covid_19, SayEntrepr...</td>\n",
              "    </tr>\n",
              "    <tr>\n",
              "      <th>4</th>\n",
              "      <td>5</td>\n",
              "      <td>44967</td>\n",
              "      <td>Washington, DC</td>\n",
              "      <td>04-03-2020</td>\n",
              "      <td>While we were busy watching election returns a...</td>\n",
              "      <td>Positive</td>\n",
              "      <td>[]</td>\n",
              "    </tr>\n",
              "    <tr>\n",
              "      <th>...</th>\n",
              "      <td>...</td>\n",
              "      <td>...</td>\n",
              "      <td>...</td>\n",
              "      <td>...</td>\n",
              "      <td>...</td>\n",
              "      <td>...</td>\n",
              "      <td>...</td>\n",
              "    </tr>\n",
              "    <tr>\n",
              "      <th>1983</th>\n",
              "      <td>1984</td>\n",
              "      <td>48737</td>\n",
              "      <td>Paraparaumu Beach</td>\n",
              "      <td>16-03-2020</td>\n",
              "      <td>Just been through K?piti New World which is bu...</td>\n",
              "      <td>Positive</td>\n",
              "      <td>[]</td>\n",
              "    </tr>\n",
              "    <tr>\n",
              "      <th>1984</th>\n",
              "      <td>1985</td>\n",
              "      <td>48743</td>\n",
              "      <td>Cincinnati, Ohio</td>\n",
              "      <td>16-03-2020</td>\n",
              "      <td>Even though the Law Library is closed, ALL sub...</td>\n",
              "      <td>Positive</td>\n",
              "      <td>[]</td>\n",
              "    </tr>\n",
              "    <tr>\n",
              "      <th>1985</th>\n",
              "      <td>1986</td>\n",
              "      <td>48745</td>\n",
              "      <td>Washington D.C.</td>\n",
              "      <td>16-03-2020</td>\n",
              "      <td>@RicePolitics @MDCounties Craig, will you call...</td>\n",
              "      <td>Negative</td>\n",
              "      <td>[]</td>\n",
              "    </tr>\n",
              "    <tr>\n",
              "      <th>1986</th>\n",
              "      <td>1987</td>\n",
              "      <td>48746</td>\n",
              "      <td>Israel ??</td>\n",
              "      <td>16-03-2020</td>\n",
              "      <td>Meanwhile In A Supermarket in Israel -- People...</td>\n",
              "      <td>Positive</td>\n",
              "      <td>[CoronaVirus]</td>\n",
              "    </tr>\n",
              "    <tr>\n",
              "      <th>1987</th>\n",
              "      <td>1988</td>\n",
              "      <td>48747</td>\n",
              "      <td>Farmington, NM</td>\n",
              "      <td>16-03-2020</td>\n",
              "      <td>Did you panic buy a lot of non-perishable item...</td>\n",
              "      <td>Negative</td>\n",
              "      <td>[]</td>\n",
              "    </tr>\n",
              "  </tbody>\n",
              "</table>\n",
              "<p>1988 rows × 7 columns</p>\n",
              "</div>\n",
              "      <button class=\"colab-df-convert\" onclick=\"convertToInteractive('df-1969fcca-4845-4411-a777-b534844888b7')\"\n",
              "              title=\"Convert this dataframe to an interactive table.\"\n",
              "              style=\"display:none;\">\n",
              "        \n",
              "  <svg xmlns=\"http://www.w3.org/2000/svg\" height=\"24px\"viewBox=\"0 0 24 24\"\n",
              "       width=\"24px\">\n",
              "    <path d=\"M0 0h24v24H0V0z\" fill=\"none\"/>\n",
              "    <path d=\"M18.56 5.44l.94 2.06.94-2.06 2.06-.94-2.06-.94-.94-2.06-.94 2.06-2.06.94zm-11 1L8.5 8.5l.94-2.06 2.06-.94-2.06-.94L8.5 2.5l-.94 2.06-2.06.94zm10 10l.94 2.06.94-2.06 2.06-.94-2.06-.94-.94-2.06-.94 2.06-2.06.94z\"/><path d=\"M17.41 7.96l-1.37-1.37c-.4-.4-.92-.59-1.43-.59-.52 0-1.04.2-1.43.59L10.3 9.45l-7.72 7.72c-.78.78-.78 2.05 0 2.83L4 21.41c.39.39.9.59 1.41.59.51 0 1.02-.2 1.41-.59l7.78-7.78 2.81-2.81c.8-.78.8-2.07 0-2.86zM5.41 20L4 18.59l7.72-7.72 1.47 1.35L5.41 20z\"/>\n",
              "  </svg>\n",
              "      </button>\n",
              "      \n",
              "  <style>\n",
              "    .colab-df-container {\n",
              "      display:flex;\n",
              "      flex-wrap:wrap;\n",
              "      gap: 12px;\n",
              "    }\n",
              "\n",
              "    .colab-df-convert {\n",
              "      background-color: #E8F0FE;\n",
              "      border: none;\n",
              "      border-radius: 50%;\n",
              "      cursor: pointer;\n",
              "      display: none;\n",
              "      fill: #1967D2;\n",
              "      height: 32px;\n",
              "      padding: 0 0 0 0;\n",
              "      width: 32px;\n",
              "    }\n",
              "\n",
              "    .colab-df-convert:hover {\n",
              "      background-color: #E2EBFA;\n",
              "      box-shadow: 0px 1px 2px rgba(60, 64, 67, 0.3), 0px 1px 3px 1px rgba(60, 64, 67, 0.15);\n",
              "      fill: #174EA6;\n",
              "    }\n",
              "\n",
              "    [theme=dark] .colab-df-convert {\n",
              "      background-color: #3B4455;\n",
              "      fill: #D2E3FC;\n",
              "    }\n",
              "\n",
              "    [theme=dark] .colab-df-convert:hover {\n",
              "      background-color: #434B5C;\n",
              "      box-shadow: 0px 1px 3px 1px rgba(0, 0, 0, 0.15);\n",
              "      filter: drop-shadow(0px 1px 2px rgba(0, 0, 0, 0.3));\n",
              "      fill: #FFFFFF;\n",
              "    }\n",
              "  </style>\n",
              "\n",
              "      <script>\n",
              "        const buttonEl =\n",
              "          document.querySelector('#df-1969fcca-4845-4411-a777-b534844888b7 button.colab-df-convert');\n",
              "        buttonEl.style.display =\n",
              "          google.colab.kernel.accessAllowed ? 'block' : 'none';\n",
              "\n",
              "        async function convertToInteractive(key) {\n",
              "          const element = document.querySelector('#df-1969fcca-4845-4411-a777-b534844888b7');\n",
              "          const dataTable =\n",
              "            await google.colab.kernel.invokeFunction('convertToInteractive',\n",
              "                                                     [key], {});\n",
              "          if (!dataTable) return;\n",
              "\n",
              "          const docLinkHtml = 'Like what you see? Visit the ' +\n",
              "            '<a target=\"_blank\" href=https://colab.research.google.com/notebooks/data_table.ipynb>data table notebook</a>'\n",
              "            + ' to learn more about interactive tables.';\n",
              "          element.innerHTML = '';\n",
              "          dataTable['output_type'] = 'display_data';\n",
              "          await google.colab.output.renderOutput(dataTable, element);\n",
              "          const docLink = document.createElement('div');\n",
              "          docLink.innerHTML = docLinkHtml;\n",
              "          element.appendChild(docLink);\n",
              "        }\n",
              "      </script>\n",
              "    </div>\n",
              "  </div>\n",
              "  "
            ]
          },
          "metadata": {},
          "execution_count": 9
        }
      ]
    },
    {
      "cell_type": "markdown",
      "source": [
        "Preprocessing the text data - removing unwanted links,signs(@,#),numbers from the text"
      ],
      "metadata": {
        "id": "zGs9M0MJLgz2"
      }
    },
    {
      "cell_type": "code",
      "source": [
        "import nltk\n",
        "nltk.download('words')\n",
        "words = set(nltk.corpus.words.words())"
      ],
      "metadata": {
        "colab": {
          "base_uri": "https://localhost:8080/"
        },
        "id": "Rwp6PZH2eIAl",
        "outputId": "62c38acb-9a49-40ff-ea4e-985d645aa7c2"
      },
      "execution_count": null,
      "outputs": [
        {
          "output_type": "stream",
          "name": "stdout",
          "text": [
            "[nltk_data] Downloading package words to /root/nltk_data...\n",
            "[nltk_data]   Unzipping corpora/words.zip.\n"
          ]
        }
      ]
    },
    {
      "cell_type": "code",
      "source": [
        "def cleaner(tweet):\n",
        "    tweet = re.sub(\"@[A-Za-z0-9]+\",\"\",tweet) \n",
        "    tweet = re.sub(r\"(?:\\@|http?\\://|https?\\://|www)\\S+\", \"\", tweet)\n",
        "    tweet = re.sub(r'(.)1+', r'1', tweet)\n",
        "    tweet = re.sub('[0-9]+', '', tweet)\n",
        "    tweet = \" \".join(tweet.split())\n",
        "    tweet = tweet.replace(\"#\", \"\").replace(\"_\", \" \")\n",
        "    tweet = \" \".join(w for w in nltk.wordpunct_tokenize(tweet)\n",
        "         if w.lower() in words or not w.isalpha())\n",
        "    return tweet\n",
        "    \n",
        "\n",
        "data['tweet_clean'] = data['OriginalTweet'].apply(cleaner)"
      ],
      "metadata": {
        "id": "ZOSe4yeSYGeK"
      },
      "execution_count": null,
      "outputs": []
    },
    {
      "cell_type": "code",
      "source": [
        "data"
      ],
      "metadata": {
        "colab": {
          "base_uri": "https://localhost:8080/",
          "height": 641
        },
        "id": "XZt3kjcmeI2x",
        "outputId": "289a990b-e636-4d00-eb93-31c920921300"
      },
      "execution_count": null,
      "outputs": [
        {
          "output_type": "execute_result",
          "data": {
            "text/plain": [
              "      UserName  ScreenName                Location     TweetAt  \\\n",
              "0            1       44954             Seattle, WA  02-03-2020   \n",
              "1            2       44956             Chicagoland  02-03-2020   \n",
              "2            3       44959                     NaN  03-03-2020   \n",
              "3            4       44963  Boksburg, South Africa  04-03-2020   \n",
              "4            5       44967          Washington, DC  04-03-2020   \n",
              "...        ...         ...                     ...         ...   \n",
              "1983      1984       48737       Paraparaumu Beach  16-03-2020   \n",
              "1984      1985       48743        Cincinnati, Ohio  16-03-2020   \n",
              "1985      1986       48745         Washington D.C.  16-03-2020   \n",
              "1986      1987       48746               Israel ??  16-03-2020   \n",
              "1987      1988       48747          Farmington, NM  16-03-2020   \n",
              "\n",
              "                                          OriginalTweet Sentiment  \\\n",
              "0     When I couldn't find hand sanitizer at Fred Me...  Positive   \n",
              "1     #Panic buying hits #NewYork City as anxious sh...  Negative   \n",
              "2     Voting in the age of #coronavirus = hand sanit...  Positive   \n",
              "3     Best quality couches at unbelievably low price...  Positive   \n",
              "4     While we were busy watching election returns a...  Positive   \n",
              "...                                                 ...       ...   \n",
              "1983  Just been through K?piti New World which is bu...  Positive   \n",
              "1984  Even though the Law Library is closed, ALL sub...  Positive   \n",
              "1985  @RicePolitics @MDCounties Craig, will you call...  Negative   \n",
              "1986  Meanwhile In A Supermarket in Israel -- People...  Positive   \n",
              "1987  Did you panic buy a lot of non-perishable item...  Negative   \n",
              "\n",
              "                                                hashtag  \\\n",
              "0                                 [Amazon, coronavirus]   \n",
              "1     [Panic, NewYork, healthcare, BigApple, coronav...   \n",
              "2                           [coronavirus, SuperTuesday]   \n",
              "3     [SuperTuesdsy, PowerTalk, Covid_19, SayEntrepr...   \n",
              "4                                                    []   \n",
              "...                                                 ...   \n",
              "1983                                                 []   \n",
              "1984                                                 []   \n",
              "1985                                                 []   \n",
              "1986                                      [CoronaVirus]   \n",
              "1987                                                 []   \n",
              "\n",
              "                                            tweet_clean  \n",
              "0     When I ' t find hand at , I turned to . But . ...  \n",
              "1     Panic City as anxious stock up on food & ; med...  \n",
              "2                         Voting in the age of = hand ?  \n",
              "3     Best quality at unbelievably low available to ...  \n",
              "4     While we were busy watching election and braci...  \n",
              "...                                                 ...  \n",
              "1983  Just been through K ? New World which is busy ...  \n",
              "1984  Even though the Law Library is closed , ALL ca...  \n",
              "1985  , will you call on the General Assembly to ena...  \n",
              "1986  Meanwhile In A Supermarket in -- People dance ...  \n",
              "1987  Did you panic buy a lot of non - perishable ? ...  \n",
              "\n",
              "[1988 rows x 8 columns]"
            ],
            "text/html": [
              "\n",
              "  <div id=\"df-d5419bc9-4921-47d1-a43b-0640ce1813ec\">\n",
              "    <div class=\"colab-df-container\">\n",
              "      <div>\n",
              "<style scoped>\n",
              "    .dataframe tbody tr th:only-of-type {\n",
              "        vertical-align: middle;\n",
              "    }\n",
              "\n",
              "    .dataframe tbody tr th {\n",
              "        vertical-align: top;\n",
              "    }\n",
              "\n",
              "    .dataframe thead th {\n",
              "        text-align: right;\n",
              "    }\n",
              "</style>\n",
              "<table border=\"1\" class=\"dataframe\">\n",
              "  <thead>\n",
              "    <tr style=\"text-align: right;\">\n",
              "      <th></th>\n",
              "      <th>UserName</th>\n",
              "      <th>ScreenName</th>\n",
              "      <th>Location</th>\n",
              "      <th>TweetAt</th>\n",
              "      <th>OriginalTweet</th>\n",
              "      <th>Sentiment</th>\n",
              "      <th>hashtag</th>\n",
              "      <th>tweet_clean</th>\n",
              "    </tr>\n",
              "  </thead>\n",
              "  <tbody>\n",
              "    <tr>\n",
              "      <th>0</th>\n",
              "      <td>1</td>\n",
              "      <td>44954</td>\n",
              "      <td>Seattle, WA</td>\n",
              "      <td>02-03-2020</td>\n",
              "      <td>When I couldn't find hand sanitizer at Fred Me...</td>\n",
              "      <td>Positive</td>\n",
              "      <td>[Amazon, coronavirus]</td>\n",
              "      <td>When I ' t find hand at , I turned to . But . ...</td>\n",
              "    </tr>\n",
              "    <tr>\n",
              "      <th>1</th>\n",
              "      <td>2</td>\n",
              "      <td>44956</td>\n",
              "      <td>Chicagoland</td>\n",
              "      <td>02-03-2020</td>\n",
              "      <td>#Panic buying hits #NewYork City as anxious sh...</td>\n",
              "      <td>Negative</td>\n",
              "      <td>[Panic, NewYork, healthcare, BigApple, coronav...</td>\n",
              "      <td>Panic City as anxious stock up on food &amp; ; med...</td>\n",
              "    </tr>\n",
              "    <tr>\n",
              "      <th>2</th>\n",
              "      <td>3</td>\n",
              "      <td>44959</td>\n",
              "      <td>NaN</td>\n",
              "      <td>03-03-2020</td>\n",
              "      <td>Voting in the age of #coronavirus = hand sanit...</td>\n",
              "      <td>Positive</td>\n",
              "      <td>[coronavirus, SuperTuesday]</td>\n",
              "      <td>Voting in the age of = hand ?</td>\n",
              "    </tr>\n",
              "    <tr>\n",
              "      <th>3</th>\n",
              "      <td>4</td>\n",
              "      <td>44963</td>\n",
              "      <td>Boksburg, South Africa</td>\n",
              "      <td>04-03-2020</td>\n",
              "      <td>Best quality couches at unbelievably low price...</td>\n",
              "      <td>Positive</td>\n",
              "      <td>[SuperTuesdsy, PowerTalk, Covid_19, SayEntrepr...</td>\n",
              "      <td>Best quality at unbelievably low available to ...</td>\n",
              "    </tr>\n",
              "    <tr>\n",
              "      <th>4</th>\n",
              "      <td>5</td>\n",
              "      <td>44967</td>\n",
              "      <td>Washington, DC</td>\n",
              "      <td>04-03-2020</td>\n",
              "      <td>While we were busy watching election returns a...</td>\n",
              "      <td>Positive</td>\n",
              "      <td>[]</td>\n",
              "      <td>While we were busy watching election and braci...</td>\n",
              "    </tr>\n",
              "    <tr>\n",
              "      <th>...</th>\n",
              "      <td>...</td>\n",
              "      <td>...</td>\n",
              "      <td>...</td>\n",
              "      <td>...</td>\n",
              "      <td>...</td>\n",
              "      <td>...</td>\n",
              "      <td>...</td>\n",
              "      <td>...</td>\n",
              "    </tr>\n",
              "    <tr>\n",
              "      <th>1983</th>\n",
              "      <td>1984</td>\n",
              "      <td>48737</td>\n",
              "      <td>Paraparaumu Beach</td>\n",
              "      <td>16-03-2020</td>\n",
              "      <td>Just been through K?piti New World which is bu...</td>\n",
              "      <td>Positive</td>\n",
              "      <td>[]</td>\n",
              "      <td>Just been through K ? New World which is busy ...</td>\n",
              "    </tr>\n",
              "    <tr>\n",
              "      <th>1984</th>\n",
              "      <td>1985</td>\n",
              "      <td>48743</td>\n",
              "      <td>Cincinnati, Ohio</td>\n",
              "      <td>16-03-2020</td>\n",
              "      <td>Even though the Law Library is closed, ALL sub...</td>\n",
              "      <td>Positive</td>\n",
              "      <td>[]</td>\n",
              "      <td>Even though the Law Library is closed , ALL ca...</td>\n",
              "    </tr>\n",
              "    <tr>\n",
              "      <th>1985</th>\n",
              "      <td>1986</td>\n",
              "      <td>48745</td>\n",
              "      <td>Washington D.C.</td>\n",
              "      <td>16-03-2020</td>\n",
              "      <td>@RicePolitics @MDCounties Craig, will you call...</td>\n",
              "      <td>Negative</td>\n",
              "      <td>[]</td>\n",
              "      <td>, will you call on the General Assembly to ena...</td>\n",
              "    </tr>\n",
              "    <tr>\n",
              "      <th>1986</th>\n",
              "      <td>1987</td>\n",
              "      <td>48746</td>\n",
              "      <td>Israel ??</td>\n",
              "      <td>16-03-2020</td>\n",
              "      <td>Meanwhile In A Supermarket in Israel -- People...</td>\n",
              "      <td>Positive</td>\n",
              "      <td>[CoronaVirus]</td>\n",
              "      <td>Meanwhile In A Supermarket in -- People dance ...</td>\n",
              "    </tr>\n",
              "    <tr>\n",
              "      <th>1987</th>\n",
              "      <td>1988</td>\n",
              "      <td>48747</td>\n",
              "      <td>Farmington, NM</td>\n",
              "      <td>16-03-2020</td>\n",
              "      <td>Did you panic buy a lot of non-perishable item...</td>\n",
              "      <td>Negative</td>\n",
              "      <td>[]</td>\n",
              "      <td>Did you panic buy a lot of non - perishable ? ...</td>\n",
              "    </tr>\n",
              "  </tbody>\n",
              "</table>\n",
              "<p>1988 rows × 8 columns</p>\n",
              "</div>\n",
              "      <button class=\"colab-df-convert\" onclick=\"convertToInteractive('df-d5419bc9-4921-47d1-a43b-0640ce1813ec')\"\n",
              "              title=\"Convert this dataframe to an interactive table.\"\n",
              "              style=\"display:none;\">\n",
              "        \n",
              "  <svg xmlns=\"http://www.w3.org/2000/svg\" height=\"24px\"viewBox=\"0 0 24 24\"\n",
              "       width=\"24px\">\n",
              "    <path d=\"M0 0h24v24H0V0z\" fill=\"none\"/>\n",
              "    <path d=\"M18.56 5.44l.94 2.06.94-2.06 2.06-.94-2.06-.94-.94-2.06-.94 2.06-2.06.94zm-11 1L8.5 8.5l.94-2.06 2.06-.94-2.06-.94L8.5 2.5l-.94 2.06-2.06.94zm10 10l.94 2.06.94-2.06 2.06-.94-2.06-.94-.94-2.06-.94 2.06-2.06.94z\"/><path d=\"M17.41 7.96l-1.37-1.37c-.4-.4-.92-.59-1.43-.59-.52 0-1.04.2-1.43.59L10.3 9.45l-7.72 7.72c-.78.78-.78 2.05 0 2.83L4 21.41c.39.39.9.59 1.41.59.51 0 1.02-.2 1.41-.59l7.78-7.78 2.81-2.81c.8-.78.8-2.07 0-2.86zM5.41 20L4 18.59l7.72-7.72 1.47 1.35L5.41 20z\"/>\n",
              "  </svg>\n",
              "      </button>\n",
              "      \n",
              "  <style>\n",
              "    .colab-df-container {\n",
              "      display:flex;\n",
              "      flex-wrap:wrap;\n",
              "      gap: 12px;\n",
              "    }\n",
              "\n",
              "    .colab-df-convert {\n",
              "      background-color: #E8F0FE;\n",
              "      border: none;\n",
              "      border-radius: 50%;\n",
              "      cursor: pointer;\n",
              "      display: none;\n",
              "      fill: #1967D2;\n",
              "      height: 32px;\n",
              "      padding: 0 0 0 0;\n",
              "      width: 32px;\n",
              "    }\n",
              "\n",
              "    .colab-df-convert:hover {\n",
              "      background-color: #E2EBFA;\n",
              "      box-shadow: 0px 1px 2px rgba(60, 64, 67, 0.3), 0px 1px 3px 1px rgba(60, 64, 67, 0.15);\n",
              "      fill: #174EA6;\n",
              "    }\n",
              "\n",
              "    [theme=dark] .colab-df-convert {\n",
              "      background-color: #3B4455;\n",
              "      fill: #D2E3FC;\n",
              "    }\n",
              "\n",
              "    [theme=dark] .colab-df-convert:hover {\n",
              "      background-color: #434B5C;\n",
              "      box-shadow: 0px 1px 3px 1px rgba(0, 0, 0, 0.15);\n",
              "      filter: drop-shadow(0px 1px 2px rgba(0, 0, 0, 0.3));\n",
              "      fill: #FFFFFF;\n",
              "    }\n",
              "  </style>\n",
              "\n",
              "      <script>\n",
              "        const buttonEl =\n",
              "          document.querySelector('#df-d5419bc9-4921-47d1-a43b-0640ce1813ec button.colab-df-convert');\n",
              "        buttonEl.style.display =\n",
              "          google.colab.kernel.accessAllowed ? 'block' : 'none';\n",
              "\n",
              "        async function convertToInteractive(key) {\n",
              "          const element = document.querySelector('#df-d5419bc9-4921-47d1-a43b-0640ce1813ec');\n",
              "          const dataTable =\n",
              "            await google.colab.kernel.invokeFunction('convertToInteractive',\n",
              "                                                     [key], {});\n",
              "          if (!dataTable) return;\n",
              "\n",
              "          const docLinkHtml = 'Like what you see? Visit the ' +\n",
              "            '<a target=\"_blank\" href=https://colab.research.google.com/notebooks/data_table.ipynb>data table notebook</a>'\n",
              "            + ' to learn more about interactive tables.';\n",
              "          element.innerHTML = '';\n",
              "          dataTable['output_type'] = 'display_data';\n",
              "          await google.colab.output.renderOutput(dataTable, element);\n",
              "          const docLink = document.createElement('div');\n",
              "          docLink.innerHTML = docLinkHtml;\n",
              "          element.appendChild(docLink);\n",
              "        }\n",
              "      </script>\n",
              "    </div>\n",
              "  </div>\n",
              "  "
            ]
          },
          "metadata": {},
          "execution_count": 12
        }
      ]
    },
    {
      "cell_type": "markdown",
      "source": [
        "Removing punctuations from the text"
      ],
      "metadata": {
        "id": "EwYYFuIKL4Av"
      }
    },
    {
      "cell_type": "code",
      "source": [
        "def remove_punctuation(text):\n",
        "    final = \"\".join(u for u in text if u not in (\"?\", \".\", \";\",\"=\",\"'\",\":\", \"$\",\"--\",\"&\", \"!\",'\"',\",\",\"-\",\"<br />\"))\n",
        "    return final\n",
        "\n",
        "data['tweet_clean'] = data['tweet_clean'].apply(remove_punctuation)\n",
        "data.head()"
      ],
      "metadata": {
        "colab": {
          "base_uri": "https://localhost:8080/",
          "height": 337
        },
        "id": "CFs0-ovCeMD_",
        "outputId": "138aea1e-ed13-4910-e5d6-9acbac2abd37"
      },
      "execution_count": null,
      "outputs": [
        {
          "output_type": "execute_result",
          "data": {
            "text/plain": [
              "   UserName  ScreenName                Location     TweetAt  \\\n",
              "0         1       44954             Seattle, WA  02-03-2020   \n",
              "1         2       44956             Chicagoland  02-03-2020   \n",
              "2         3       44959                     NaN  03-03-2020   \n",
              "3         4       44963  Boksburg, South Africa  04-03-2020   \n",
              "4         5       44967          Washington, DC  04-03-2020   \n",
              "\n",
              "                                       OriginalTweet Sentiment  \\\n",
              "0  When I couldn't find hand sanitizer at Fred Me...  Positive   \n",
              "1  #Panic buying hits #NewYork City as anxious sh...  Negative   \n",
              "2  Voting in the age of #coronavirus = hand sanit...  Positive   \n",
              "3  Best quality couches at unbelievably low price...  Positive   \n",
              "4  While we were busy watching election returns a...  Positive   \n",
              "\n",
              "                                             hashtag  \\\n",
              "0                              [Amazon, coronavirus]   \n",
              "1  [Panic, NewYork, healthcare, BigApple, coronav...   \n",
              "2                        [coronavirus, SuperTuesday]   \n",
              "3  [SuperTuesdsy, PowerTalk, Covid_19, SayEntrepr...   \n",
              "4                                                 []   \n",
              "\n",
              "                                         tweet_clean  \n",
              "0  When I  t find hand at  I turned to  But  for ...  \n",
              "1  Panic City as anxious stock up on food   medic...  \n",
              "2                        Voting in the age of  hand   \n",
              "3  Best quality at unbelievably low available to ...  \n",
              "4  While we were busy watching election and braci...  "
            ],
            "text/html": [
              "\n",
              "  <div id=\"df-dbcc92c9-f378-40e3-9ab9-d8a29c70d640\">\n",
              "    <div class=\"colab-df-container\">\n",
              "      <div>\n",
              "<style scoped>\n",
              "    .dataframe tbody tr th:only-of-type {\n",
              "        vertical-align: middle;\n",
              "    }\n",
              "\n",
              "    .dataframe tbody tr th {\n",
              "        vertical-align: top;\n",
              "    }\n",
              "\n",
              "    .dataframe thead th {\n",
              "        text-align: right;\n",
              "    }\n",
              "</style>\n",
              "<table border=\"1\" class=\"dataframe\">\n",
              "  <thead>\n",
              "    <tr style=\"text-align: right;\">\n",
              "      <th></th>\n",
              "      <th>UserName</th>\n",
              "      <th>ScreenName</th>\n",
              "      <th>Location</th>\n",
              "      <th>TweetAt</th>\n",
              "      <th>OriginalTweet</th>\n",
              "      <th>Sentiment</th>\n",
              "      <th>hashtag</th>\n",
              "      <th>tweet_clean</th>\n",
              "    </tr>\n",
              "  </thead>\n",
              "  <tbody>\n",
              "    <tr>\n",
              "      <th>0</th>\n",
              "      <td>1</td>\n",
              "      <td>44954</td>\n",
              "      <td>Seattle, WA</td>\n",
              "      <td>02-03-2020</td>\n",
              "      <td>When I couldn't find hand sanitizer at Fred Me...</td>\n",
              "      <td>Positive</td>\n",
              "      <td>[Amazon, coronavirus]</td>\n",
              "      <td>When I  t find hand at  I turned to  But  for ...</td>\n",
              "    </tr>\n",
              "    <tr>\n",
              "      <th>1</th>\n",
              "      <td>2</td>\n",
              "      <td>44956</td>\n",
              "      <td>Chicagoland</td>\n",
              "      <td>02-03-2020</td>\n",
              "      <td>#Panic buying hits #NewYork City as anxious sh...</td>\n",
              "      <td>Negative</td>\n",
              "      <td>[Panic, NewYork, healthcare, BigApple, coronav...</td>\n",
              "      <td>Panic City as anxious stock up on food   medic...</td>\n",
              "    </tr>\n",
              "    <tr>\n",
              "      <th>2</th>\n",
              "      <td>3</td>\n",
              "      <td>44959</td>\n",
              "      <td>NaN</td>\n",
              "      <td>03-03-2020</td>\n",
              "      <td>Voting in the age of #coronavirus = hand sanit...</td>\n",
              "      <td>Positive</td>\n",
              "      <td>[coronavirus, SuperTuesday]</td>\n",
              "      <td>Voting in the age of  hand</td>\n",
              "    </tr>\n",
              "    <tr>\n",
              "      <th>3</th>\n",
              "      <td>4</td>\n",
              "      <td>44963</td>\n",
              "      <td>Boksburg, South Africa</td>\n",
              "      <td>04-03-2020</td>\n",
              "      <td>Best quality couches at unbelievably low price...</td>\n",
              "      <td>Positive</td>\n",
              "      <td>[SuperTuesdsy, PowerTalk, Covid_19, SayEntrepr...</td>\n",
              "      <td>Best quality at unbelievably low available to ...</td>\n",
              "    </tr>\n",
              "    <tr>\n",
              "      <th>4</th>\n",
              "      <td>5</td>\n",
              "      <td>44967</td>\n",
              "      <td>Washington, DC</td>\n",
              "      <td>04-03-2020</td>\n",
              "      <td>While we were busy watching election returns a...</td>\n",
              "      <td>Positive</td>\n",
              "      <td>[]</td>\n",
              "      <td>While we were busy watching election and braci...</td>\n",
              "    </tr>\n",
              "  </tbody>\n",
              "</table>\n",
              "</div>\n",
              "      <button class=\"colab-df-convert\" onclick=\"convertToInteractive('df-dbcc92c9-f378-40e3-9ab9-d8a29c70d640')\"\n",
              "              title=\"Convert this dataframe to an interactive table.\"\n",
              "              style=\"display:none;\">\n",
              "        \n",
              "  <svg xmlns=\"http://www.w3.org/2000/svg\" height=\"24px\"viewBox=\"0 0 24 24\"\n",
              "       width=\"24px\">\n",
              "    <path d=\"M0 0h24v24H0V0z\" fill=\"none\"/>\n",
              "    <path d=\"M18.56 5.44l.94 2.06.94-2.06 2.06-.94-2.06-.94-.94-2.06-.94 2.06-2.06.94zm-11 1L8.5 8.5l.94-2.06 2.06-.94-2.06-.94L8.5 2.5l-.94 2.06-2.06.94zm10 10l.94 2.06.94-2.06 2.06-.94-2.06-.94-.94-2.06-.94 2.06-2.06.94z\"/><path d=\"M17.41 7.96l-1.37-1.37c-.4-.4-.92-.59-1.43-.59-.52 0-1.04.2-1.43.59L10.3 9.45l-7.72 7.72c-.78.78-.78 2.05 0 2.83L4 21.41c.39.39.9.59 1.41.59.51 0 1.02-.2 1.41-.59l7.78-7.78 2.81-2.81c.8-.78.8-2.07 0-2.86zM5.41 20L4 18.59l7.72-7.72 1.47 1.35L5.41 20z\"/>\n",
              "  </svg>\n",
              "      </button>\n",
              "      \n",
              "  <style>\n",
              "    .colab-df-container {\n",
              "      display:flex;\n",
              "      flex-wrap:wrap;\n",
              "      gap: 12px;\n",
              "    }\n",
              "\n",
              "    .colab-df-convert {\n",
              "      background-color: #E8F0FE;\n",
              "      border: none;\n",
              "      border-radius: 50%;\n",
              "      cursor: pointer;\n",
              "      display: none;\n",
              "      fill: #1967D2;\n",
              "      height: 32px;\n",
              "      padding: 0 0 0 0;\n",
              "      width: 32px;\n",
              "    }\n",
              "\n",
              "    .colab-df-convert:hover {\n",
              "      background-color: #E2EBFA;\n",
              "      box-shadow: 0px 1px 2px rgba(60, 64, 67, 0.3), 0px 1px 3px 1px rgba(60, 64, 67, 0.15);\n",
              "      fill: #174EA6;\n",
              "    }\n",
              "\n",
              "    [theme=dark] .colab-df-convert {\n",
              "      background-color: #3B4455;\n",
              "      fill: #D2E3FC;\n",
              "    }\n",
              "\n",
              "    [theme=dark] .colab-df-convert:hover {\n",
              "      background-color: #434B5C;\n",
              "      box-shadow: 0px 1px 3px 1px rgba(0, 0, 0, 0.15);\n",
              "      filter: drop-shadow(0px 1px 2px rgba(0, 0, 0, 0.3));\n",
              "      fill: #FFFFFF;\n",
              "    }\n",
              "  </style>\n",
              "\n",
              "      <script>\n",
              "        const buttonEl =\n",
              "          document.querySelector('#df-dbcc92c9-f378-40e3-9ab9-d8a29c70d640 button.colab-df-convert');\n",
              "        buttonEl.style.display =\n",
              "          google.colab.kernel.accessAllowed ? 'block' : 'none';\n",
              "\n",
              "        async function convertToInteractive(key) {\n",
              "          const element = document.querySelector('#df-dbcc92c9-f378-40e3-9ab9-d8a29c70d640');\n",
              "          const dataTable =\n",
              "            await google.colab.kernel.invokeFunction('convertToInteractive',\n",
              "                                                     [key], {});\n",
              "          if (!dataTable) return;\n",
              "\n",
              "          const docLinkHtml = 'Like what you see? Visit the ' +\n",
              "            '<a target=\"_blank\" href=https://colab.research.google.com/notebooks/data_table.ipynb>data table notebook</a>'\n",
              "            + ' to learn more about interactive tables.';\n",
              "          element.innerHTML = '';\n",
              "          dataTable['output_type'] = 'display_data';\n",
              "          await google.colab.output.renderOutput(dataTable, element);\n",
              "          const docLink = document.createElement('div');\n",
              "          docLink.innerHTML = docLinkHtml;\n",
              "          element.appendChild(docLink);\n",
              "        }\n",
              "      </script>\n",
              "    </div>\n",
              "  </div>\n",
              "  "
            ]
          },
          "metadata": {},
          "execution_count": 13
        }
      ]
    },
    {
      "cell_type": "markdown",
      "source": [
        "Selecting the feature and the label"
      ],
      "metadata": {
        "id": "UBtQDfUuL_oL"
      }
    },
    {
      "cell_type": "code",
      "source": [
        "x=data[\"tweet_clean\"]\n",
        "y=data[\"Sentiment\"]"
      ],
      "metadata": {
        "id": "vvFrIR6dTQe0"
      },
      "execution_count": null,
      "outputs": []
    },
    {
      "cell_type": "markdown",
      "source": [
        "Splitting training and testing data"
      ],
      "metadata": {
        "id": "1x0h4RxQ9d3S"
      }
    },
    {
      "cell_type": "code",
      "source": [
        "from sklearn.model_selection import train_test_split\n",
        "x_train,x_test,y_train,y_test=train_test_split(x,y,test_size=0.25)"
      ],
      "metadata": {
        "id": "7ln1q-BygN83"
      },
      "execution_count": null,
      "outputs": []
    },
    {
      "cell_type": "markdown",
      "source": [
        "Using LabelEncoder , converting label(positive and negative) into 0 and 1"
      ],
      "metadata": {
        "id": "KmgoeXhTMKPH"
      }
    },
    {
      "cell_type": "code",
      "source": [
        "from sklearn.preprocessing import LabelEncoder\n",
        "Encoder = LabelEncoder()\n",
        "\n",
        "y_train = Encoder.fit_transform(y_train)\n",
        "y_test = Encoder.fit_transform(y_test)"
      ],
      "metadata": {
        "id": "Shzd_rTVTqvG"
      },
      "execution_count": null,
      "outputs": []
    },
    {
      "cell_type": "markdown",
      "source": [
        "Using TfidfVectorizer converting text(Feature) into vector"
      ],
      "metadata": {
        "id": "lxvfLBc5MWjX"
      }
    },
    {
      "cell_type": "code",
      "source": [
        "from sklearn.feature_extraction.text import TfidfVectorizer\n",
        "\n",
        "T_vect = TfidfVectorizer(max_features=5000)\n",
        "T_vect.fit(data['tweet_clean'])\n",
        "\n",
        "Train_X_Tfidf = T_vect.transform(x_train)\n",
        "Test_X_Tfidf = T_vect.transform(x_test)"
      ],
      "metadata": {
        "id": "zU4CAyyPh5Zm"
      },
      "execution_count": null,
      "outputs": []
    },
    {
      "cell_type": "markdown",
      "source": [
        "Multinomial Naive bayes model \n"
      ],
      "metadata": {
        "id": "9zezOU_DlyKF"
      }
    },
    {
      "cell_type": "code",
      "source": [
        "from sklearn import model_selection, naive_bayes, svm"
      ],
      "metadata": {
        "id": "1MryHMC1k2r8"
      },
      "execution_count": null,
      "outputs": []
    },
    {
      "cell_type": "code",
      "source": [
        "NB = naive_bayes.MultinomialNB()\n",
        "NB.fit(Train_X_Tfidf,y_train)"
      ],
      "metadata": {
        "colab": {
          "base_uri": "https://localhost:8080/"
        },
        "id": "ebR6DZInkmJt",
        "outputId": "58d97664-814d-4fe7-d40b-e26497b43eed"
      },
      "execution_count": null,
      "outputs": [
        {
          "output_type": "execute_result",
          "data": {
            "text/plain": [
              "MultinomialNB()"
            ]
          },
          "metadata": {},
          "execution_count": 19
        }
      ]
    },
    {
      "cell_type": "code",
      "source": [
        "predictions_NB = NB.predict(Test_X_Tfidf)"
      ],
      "metadata": {
        "id": "2dl5vc7_k3nT"
      },
      "execution_count": null,
      "outputs": []
    },
    {
      "cell_type": "code",
      "source": [
        "from sklearn.metrics import accuracy_score\n",
        "\n",
        "print(\"Naive Bayes :  Test Accuracy Score -> \",accuracy_score(predictions_NB, y_test)*100)"
      ],
      "metadata": {
        "colab": {
          "base_uri": "https://localhost:8080/"
        },
        "id": "q9NzH_Oek9hB",
        "outputId": "1575cdf4-b830-4268-d8af-51fdc7dae7f0"
      },
      "execution_count": null,
      "outputs": [
        {
          "output_type": "stream",
          "name": "stdout",
          "text": [
            "Naive Bayes :  Accuracy Score ->  63.17907444668008\n"
          ]
        }
      ]
    },
    {
      "cell_type": "markdown",
      "source": [
        "Support Vector Machine - SVM"
      ],
      "metadata": {
        "id": "IG2hIwNglufU"
      }
    },
    {
      "cell_type": "code",
      "source": [
        "SVM = svm.SVC(C=1.0, kernel='linear', degree=2, gamma='auto')\n",
        "SVM.fit(Train_X_Tfidf,y_train)"
      ],
      "metadata": {
        "colab": {
          "base_uri": "https://localhost:8080/"
        },
        "id": "lqotihyklAg3",
        "outputId": "9b8a2e34-530b-43ed-8786-f31c83e65eef"
      },
      "execution_count": null,
      "outputs": [
        {
          "output_type": "execute_result",
          "data": {
            "text/plain": [
              "SVC(degree=2, gamma='auto', kernel='linear')"
            ]
          },
          "metadata": {},
          "execution_count": 22
        }
      ]
    },
    {
      "cell_type": "code",
      "source": [
        "predictions_SVM = SVM.predict(Test_X_Tfidf)\n",
        "\n",
        "print(\"SVM Accuracy Score -> \",accuracy_score(predictions_SVM, y_test)*100)"
      ],
      "metadata": {
        "colab": {
          "base_uri": "https://localhost:8080/"
        },
        "id": "g8HkzF9ElMU4",
        "outputId": "34e31c5b-cd17-4c9e-fdfe-2b6bb089d8ed"
      },
      "execution_count": null,
      "outputs": [
        {
          "output_type": "stream",
          "name": "stdout",
          "text": [
            "SVM Accuracy Score ->  62.776659959758554\n"
          ]
        }
      ]
    },
    {
      "cell_type": "markdown",
      "source": [
        "Hyper parameter tuning to see on which value of gamma the model has performed better"
      ],
      "metadata": {
        "id": "xl_NjTX5NMyN"
      }
    },
    {
      "cell_type": "code",
      "source": [
        "from sklearn.model_selection import GridSearchCV\n",
        "from scipy.stats import loguniform\n",
        "\n",
        "grid_values = {'gamma':[0.01, 0.1, 1, 10, 100]}\n",
        "\n",
        "search = GridSearchCV(SVM, param_grid = grid_values, scoring='accuracy', n_jobs=-1, cv=3)\n",
        "\n",
        "result = search.fit(Train_X_Tfidf, y_train)\n",
        "\n",
        "# summarize result\n",
        "print('Best Score: %s' % result.best_score_)\n",
        "print('Best Hyperparameters: %s' % result.best_params_)"
      ],
      "metadata": {
        "colab": {
          "base_uri": "https://localhost:8080/"
        },
        "id": "2HjN5LbGoEC-",
        "outputId": "84d73b06-3ee8-45c9-cc7d-64356ba3e4f5"
      },
      "execution_count": null,
      "outputs": [
        {
          "output_type": "stream",
          "name": "stdout",
          "text": [
            "Best Score: 0.6244131455399061\n",
            "Best Hyperparameters: {'gamma': 0.01}\n"
          ]
        }
      ]
    },
    {
      "cell_type": "markdown",
      "source": [
        "LSTM - Long Short Term Memory"
      ],
      "metadata": {
        "id": "iejOOL8r8NJl"
      }
    },
    {
      "cell_type": "markdown",
      "source": [
        "Converting the text into vectors as per the required shapes for LSTM"
      ],
      "metadata": {
        "id": "9LUlgKCUM0-k"
      }
    },
    {
      "cell_type": "markdown",
      "source": [
        "Tokenizing the sentence into words "
      ],
      "metadata": {
        "id": "c7V5HapwOKAi"
      }
    },
    {
      "cell_type": "code",
      "source": [
        "from keras.preprocessing.text import Tokenizer\n",
        "tokenizer=Tokenizer(num_words=100, lower='True')\n",
        "tokenizer.fit_on_texts(x_train)"
      ],
      "metadata": {
        "id": "_E8qh6Cp9ztP"
      },
      "execution_count": null,
      "outputs": []
    },
    {
      "cell_type": "markdown",
      "source": [
        "Converting the tokenized words into vectors"
      ],
      "metadata": {
        "id": "H3h5DtFmOOjc"
      }
    },
    {
      "cell_type": "code",
      "source": [
        "X_train=tokenizer.texts_to_sequences(x_train)\n",
        "X_test=tokenizer.texts_to_sequences(x_test) \n",
        "vocab_size=len(tokenizer.word_index)+1"
      ],
      "metadata": {
        "id": "MaZNBqi49zu9"
      },
      "execution_count": null,
      "outputs": []
    },
    {
      "cell_type": "markdown",
      "source": [
        "Padding the sequence to Equal Length"
      ],
      "metadata": {
        "id": "EjbklTXLOYuu"
      }
    },
    {
      "cell_type": "code",
      "source": [
        "from keras.preprocessing.sequence import pad_sequences\n",
        "maxlen=50\n",
        "X_train=pad_sequences(X_train,padding='post',maxlen=maxlen)\n",
        "X_test=pad_sequences(X_test,padding='post',maxlen=maxlen)\n",
        "print(X_train[3:])"
      ],
      "metadata": {
        "colab": {
          "base_uri": "https://localhost:8080/"
        },
        "id": "Ff2UqXgr9zxg",
        "outputId": "7ab75baf-fd7a-4957-c02b-23e2696c090d"
      },
      "execution_count": null,
      "outputs": [
        {
          "output_type": "stream",
          "name": "stdout",
          "text": [
            "[[ 1 43  9 ...  0  0  0]\n",
            " [11 35  7 ...  0  0  0]\n",
            " [12 43 88 ...  0  0  0]\n",
            " ...\n",
            " [ 2 21 26 ...  0  0  0]\n",
            " [56 90  6 ...  0  0  0]\n",
            " [ 4 65  9 ...  0  0  0]]\n"
          ]
        }
      ]
    },
    {
      "cell_type": "code",
      "source": [
        "X_train.shape"
      ],
      "metadata": {
        "colab": {
          "base_uri": "https://localhost:8080/"
        },
        "id": "RCMEyFCP9zz_",
        "outputId": "7e189d25-0954-4475-89ec-f2088611e34e"
      },
      "execution_count": null,
      "outputs": [
        {
          "output_type": "execute_result",
          "data": {
            "text/plain": [
              "(1491, 50)"
            ]
          },
          "metadata": {},
          "execution_count": 28
        }
      ]
    },
    {
      "cell_type": "markdown",
      "source": [
        "Converting the Shape of the sequence into required LSTM shape"
      ],
      "metadata": {
        "id": "Hfjg342dOptk"
      }
    },
    {
      "cell_type": "code",
      "source": [
        "import tensorflow as tf\n",
        "from tensorflow.keras.models import Sequential\n",
        "from tensorflow.keras.layers import Dense,Dropout,Activation,SimpleRNN, Embedding\n",
        "from tensorflow.keras import optimizers\n",
        "from tensorflow.keras.preprocessing.sequence import pad_sequences\n",
        "import numpy as np\n",
        "\n",
        "X_train=np.array(X_train).reshape((X_train.shape[0],X_train.shape[1],1))\n",
        "print(X_train.shape)\n",
        "X_test=np.array(X_test).reshape((X_test.shape[0],X_train.shape[1],1))\n",
        "print(X_test.shape)"
      ],
      "metadata": {
        "colab": {
          "base_uri": "https://localhost:8080/"
        },
        "id": "WxzeFGwU-BI_",
        "outputId": "d2b9d78a-5330-4c51-e40a-3f022e8e67b5"
      },
      "execution_count": null,
      "outputs": [
        {
          "output_type": "stream",
          "name": "stdout",
          "text": [
            "(1491, 50, 1)\n",
            "(497, 50, 1)\n"
          ]
        }
      ]
    },
    {
      "cell_type": "markdown",
      "source": [
        "Building LSTM model"
      ],
      "metadata": {
        "id": "XaF4uYK2Pgh-"
      }
    },
    {
      "cell_type": "code",
      "source": [
        "from keras.layers.recurrent import LSTM\n",
        "from keras.models import Sequential\n",
        "from tensorflow.keras.layers import Dense,Dropout,Flatten"
      ],
      "metadata": {
        "id": "DtZiB6CC-CyP"
      },
      "execution_count": null,
      "outputs": []
    },
    {
      "cell_type": "code",
      "source": [
        "model_lstm = Sequential()\n",
        "model_lstm.add(Embedding(1000,128,input_length=(maxlen)))\n",
        "model_lstm.add(LSTM(128))\n",
        "model_lstm.add(Flatten())\n",
        "model_lstm.add(Dense(1, activation = 'tanh'))\n",
        "model_lstm.add(Dense(1, activation = 'sigmoid'))"
      ],
      "metadata": {
        "id": "CJV21KKf-GFq"
      },
      "execution_count": null,
      "outputs": []
    },
    {
      "cell_type": "code",
      "source": [
        "model_lstm.compile(loss='binary_crossentropy',optimizer='adam',metrics=['accuracy'])"
      ],
      "metadata": {
        "id": "k9KJ8dm_-Hvw"
      },
      "execution_count": null,
      "outputs": []
    },
    {
      "cell_type": "code",
      "source": [
        "history=model_lstm.fit(X_train,y_train,epochs=30,batch_size=128,verbose=1,validation_split=0.2)"
      ],
      "metadata": {
        "colab": {
          "base_uri": "https://localhost:8080/"
        },
        "id": "9ok8qk3Z-JxM",
        "outputId": "673cbbce-56a2-442b-db14-6505051fe54e"
      },
      "execution_count": null,
      "outputs": [
        {
          "output_type": "stream",
          "name": "stdout",
          "text": [
            "Epoch 1/30\n",
            "10/10 [==============================] - 8s 292ms/step - loss: 0.6927 - accuracy: 0.5134 - val_loss: 0.7000 - val_accuracy: 0.4615\n",
            "Epoch 2/30\n",
            "10/10 [==============================] - 2s 246ms/step - loss: 0.6913 - accuracy: 0.5302 - val_loss: 0.6989 - val_accuracy: 0.4615\n",
            "Epoch 3/30\n",
            "10/10 [==============================] - 2s 239ms/step - loss: 0.6914 - accuracy: 0.5302 - val_loss: 0.6998 - val_accuracy: 0.4615\n",
            "Epoch 4/30\n",
            "10/10 [==============================] - 2s 237ms/step - loss: 0.6919 - accuracy: 0.5302 - val_loss: 0.7002 - val_accuracy: 0.4615\n",
            "Epoch 5/30\n",
            "10/10 [==============================] - 2s 237ms/step - loss: 0.6917 - accuracy: 0.5302 - val_loss: 0.6959 - val_accuracy: 0.4615\n",
            "Epoch 6/30\n",
            "10/10 [==============================] - 2s 237ms/step - loss: 0.6920 - accuracy: 0.5302 - val_loss: 0.6979 - val_accuracy: 0.4615\n",
            "Epoch 7/30\n",
            "10/10 [==============================] - 3s 335ms/step - loss: 0.6914 - accuracy: 0.5302 - val_loss: 0.6985 - val_accuracy: 0.4615\n",
            "Epoch 8/30\n",
            "10/10 [==============================] - 6s 594ms/step - loss: 0.6915 - accuracy: 0.5302 - val_loss: 0.7005 - val_accuracy: 0.4615\n",
            "Epoch 9/30\n",
            "10/10 [==============================] - 4s 398ms/step - loss: 0.6914 - accuracy: 0.5302 - val_loss: 0.7021 - val_accuracy: 0.4615\n",
            "Epoch 10/30\n",
            "10/10 [==============================] - 3s 280ms/step - loss: 0.6915 - accuracy: 0.5302 - val_loss: 0.7001 - val_accuracy: 0.4615\n",
            "Epoch 11/30\n",
            "10/10 [==============================] - 2s 239ms/step - loss: 0.6914 - accuracy: 0.5302 - val_loss: 0.7001 - val_accuracy: 0.4615\n",
            "Epoch 12/30\n",
            "10/10 [==============================] - 2s 239ms/step - loss: 0.6920 - accuracy: 0.5302 - val_loss: 0.7016 - val_accuracy: 0.4615\n",
            "Epoch 13/30\n",
            "10/10 [==============================] - 2s 239ms/step - loss: 0.6910 - accuracy: 0.5302 - val_loss: 0.6980 - val_accuracy: 0.4615\n",
            "Epoch 14/30\n",
            "10/10 [==============================] - 2s 238ms/step - loss: 0.6913 - accuracy: 0.5302 - val_loss: 0.6961 - val_accuracy: 0.4615\n",
            "Epoch 15/30\n",
            "10/10 [==============================] - 2s 239ms/step - loss: 0.6903 - accuracy: 0.5302 - val_loss: 0.6959 - val_accuracy: 0.4615\n",
            "Epoch 16/30\n",
            "10/10 [==============================] - 2s 238ms/step - loss: 0.6851 - accuracy: 0.5705 - val_loss: 0.7094 - val_accuracy: 0.5452\n",
            "Epoch 17/30\n",
            "10/10 [==============================] - 2s 241ms/step - loss: 0.6854 - accuracy: 0.5680 - val_loss: 0.7107 - val_accuracy: 0.4615\n",
            "Epoch 18/30\n",
            "10/10 [==============================] - 2s 240ms/step - loss: 0.6937 - accuracy: 0.5025 - val_loss: 0.7117 - val_accuracy: 0.4615\n",
            "Epoch 19/30\n",
            "10/10 [==============================] - 2s 237ms/step - loss: 0.6923 - accuracy: 0.5302 - val_loss: 0.6979 - val_accuracy: 0.4615\n",
            "Epoch 20/30\n",
            "10/10 [==============================] - 2s 241ms/step - loss: 0.6919 - accuracy: 0.5302 - val_loss: 0.7053 - val_accuracy: 0.4615\n",
            "Epoch 21/30\n",
            "10/10 [==============================] - 2s 241ms/step - loss: 0.6915 - accuracy: 0.5302 - val_loss: 0.6951 - val_accuracy: 0.4615\n",
            "Epoch 22/30\n",
            "10/10 [==============================] - 2s 241ms/step - loss: 0.6958 - accuracy: 0.5302 - val_loss: 0.7053 - val_accuracy: 0.4615\n",
            "Epoch 23/30\n",
            "10/10 [==============================] - 2s 240ms/step - loss: 0.6942 - accuracy: 0.4891 - val_loss: 0.6943 - val_accuracy: 0.4615\n",
            "Epoch 24/30\n",
            "10/10 [==============================] - 2s 241ms/step - loss: 0.6939 - accuracy: 0.5302 - val_loss: 0.7097 - val_accuracy: 0.4615\n",
            "Epoch 25/30\n",
            "10/10 [==============================] - 2s 239ms/step - loss: 0.6919 - accuracy: 0.5302 - val_loss: 0.6967 - val_accuracy: 0.4615\n",
            "Epoch 26/30\n",
            "10/10 [==============================] - 2s 242ms/step - loss: 0.6918 - accuracy: 0.5302 - val_loss: 0.6975 - val_accuracy: 0.4615\n",
            "Epoch 27/30\n",
            "10/10 [==============================] - 2s 241ms/step - loss: 0.6925 - accuracy: 0.5302 - val_loss: 0.6996 - val_accuracy: 0.4615\n",
            "Epoch 28/30\n",
            "10/10 [==============================] - 2s 239ms/step - loss: 0.6921 - accuracy: 0.5302 - val_loss: 0.6968 - val_accuracy: 0.4615\n",
            "Epoch 29/30\n",
            "10/10 [==============================] - 2s 240ms/step - loss: 0.6915 - accuracy: 0.5302 - val_loss: 0.6999 - val_accuracy: 0.4615\n",
            "Epoch 30/30\n",
            "10/10 [==============================] - 2s 241ms/step - loss: 0.6913 - accuracy: 0.5302 - val_loss: 0.6993 - val_accuracy: 0.4615\n"
          ]
        }
      ]
    },
    {
      "cell_type": "code",
      "source": [
        "score = model_lstm.evaluate(X_test, y_test)\n",
        "print(\"Test Accuracy:\", score[0]) \n"
      ],
      "metadata": {
        "colab": {
          "base_uri": "https://localhost:8080/"
        },
        "id": "mLbENxiX-zt0",
        "outputId": "b4b87ac7-2c7a-4fc5-ac57-818f436ea89d"
      },
      "execution_count": null,
      "outputs": [
        {
          "output_type": "stream",
          "name": "stdout",
          "text": [
            "16/16 [==============================] - 1s 38ms/step - loss: 0.6896 - accuracy: 0.5453\n",
            "Test Accuracy: 0.6895623207092285\n"
          ]
        }
      ]
    },
    {
      "cell_type": "markdown",
      "source": [
        "As we can see LSTM works better than bothb SVM and Naive Bayes \n",
        "In this case , LSTM (68.9%) > Naive Bayes (63%) > SVM (62.7%).\n",
        "On this text data , both Naive Bayes and SVM performed almost the same ."
      ],
      "metadata": {
        "id": "6l1gyX4zNBtj"
      }
    },
    {
      "cell_type": "code",
      "source": [
        ""
      ],
      "metadata": {
        "id": "ZxuwWon5-5ul"
      },
      "execution_count": null,
      "outputs": []
    }
  ]
}